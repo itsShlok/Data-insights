{
 "cells": [
  {
   "cell_type": "code",
   "execution_count": 1,
   "id": "91246734-5bc0-4559-a453-5d42bf320025",
   "metadata": {},
   "outputs": [],
   "source": [
    "#!pip install altair==4.2.2"
   ]
  },
  {
   "cell_type": "code",
   "execution_count": 2,
   "id": "4ff4ae9b-7576-4b2a-9693-bbbcc0c4e360",
   "metadata": {},
   "outputs": [],
   "source": [
    "import pandas as pd\n",
    "import numpy as np\n",
    "import streamlit as st\n",
    "import pickle\n",
    "import joblib\n",
    "import warnings\n",
    "warnings.filterwarnings('ignore')"
   ]
  },
  {
   "cell_type": "code",
   "execution_count": 3,
   "id": "2e342f35-3523-4bae-b46a-e2f7781aeec4",
   "metadata": {},
   "outputs": [],
   "source": [
    "#!pip install altair --upgrade"
   ]
  },
  {
   "cell_type": "code",
   "execution_count": 4,
   "id": "e2c68a2d-9cbb-4f44-901e-356005b3606f",
   "metadata": {},
   "outputs": [],
   "source": [
    "#!pip install pandas scikit-learn numpy altair"
   ]
  },
  {
   "cell_type": "code",
   "execution_count": 5,
   "id": "c57921b8-72ae-4669-bfb4-6911ce7989c9",
   "metadata": {},
   "outputs": [],
   "source": [
    "#!pip install streamlit"
   ]
  },
  {
   "cell_type": "code",
   "execution_count": 32,
   "id": "ea34ba53-79b7-48d9-be1f-eaeeb68f8fdb",
   "metadata": {},
   "outputs": [],
   "source": [
    "# Load model and scaler\n",
    "model = pickle.load(open('Dep.pkl', 'rb'))\n",
    "scaler = joblib.load('scaler.pkl')"
   ]
  },
  {
   "cell_type": "code",
   "execution_count": 34,
   "id": "cb530d71-a7ca-4da1-b6ad-b16c152ef1ad",
   "metadata": {},
   "outputs": [
    {
     "data": {
      "text/plain": [
       "DeltaGenerator()"
      ]
     },
     "execution_count": 34,
     "metadata": {},
     "output_type": "execute_result"
    }
   ],
   "source": [
    "# Streamlit UI\n",
    "st.title('Model Deployment Using Logistic Regression')"
   ]
  },
  {
   "cell_type": "code",
   "execution_count": 36,
   "id": "92610db1-e423-45c2-b08c-b0c61b95d9f0",
   "metadata": {},
   "outputs": [],
   "source": [
    "pclass = st.selectbox(\"Passenger Class\", [1, 2, 3])\n",
    "sex = st.selectbox(\"Sex\", ['male', 'female'])\n",
    "age = st.slider(\"Age\", 0, 100, 25)\n",
    "fare = st.slider(\"Fare\", 0, 600, 50)\n",
    "sibsp = st.number_input(\"Number of Siblings/Spouses Aboard\", 0, 8, 0)\n",
    "parch = st.number_input(\"Number of Parents/Children Aboard\", 0, 6, 0)\n",
    "embarked = st.selectbox(\"Port of Embarkation\", ['C', 'Q', 'S'])"
   ]
  },
  {
   "cell_type": "code",
   "execution_count": 38,
   "id": "386aa831-fe98-4aa8-a0d1-cf8e3793b2c9",
   "metadata": {},
   "outputs": [],
   "source": [
    "# Mapping sex to dummy variable\n",
    "sex_male = 1 if sex == 'male' else 0"
   ]
  },
  {
   "cell_type": "code",
   "execution_count": 40,
   "id": "7f46a773-e759-42a1-bf73-25d289f45b5a",
   "metadata": {},
   "outputs": [],
   "source": [
    "# Mapping embarked to dummy variables\n",
    "embarked_Q = 1 if embarked == 'Q' else 0\n",
    "embarked_S = 1 if embarked == 'S' else 0"
   ]
  },
  {
   "cell_type": "code",
   "execution_count": 42,
   "id": "d6957e5a-b37d-4b16-8998-2d9be232d3de",
   "metadata": {},
   "outputs": [],
   "source": [
    "# Create input data in the correct order\n",
    "input_data = np.array([[pclass, age, sibsp, parch, fare, sex_male, embarked_Q, embarked_S]])"
   ]
  },
  {
   "cell_type": "code",
   "execution_count": 12,
   "id": "09541396-8f53-4969-9c64-d4f1c5a41ca6",
   "metadata": {},
   "outputs": [],
   "source": [
    "input_data_scaled = scaler.transform(input_data)"
   ]
  },
  {
   "cell_type": "code",
   "execution_count": 44,
   "id": "d3a125ef-4657-472a-9afc-adb14784866c",
   "metadata": {},
   "outputs": [],
   "source": [
    "# Scale input\n",
    "input_data_scaled = scaler.transform(input_data)"
   ]
  },
  {
   "cell_type": "code",
   "execution_count": 46,
   "id": "f6fa738f-6b04-4d37-bb5f-307719b7dd88",
   "metadata": {},
   "outputs": [],
   "source": [
    "# Prediction\n",
    "prediction = model.predict(input_data_scaled)[0]\n",
    "probability = model.predict_proba(input_data_scaled)[0][1]"
   ]
  },
  {
   "cell_type": "code",
   "execution_count": 48,
   "id": "cd8f66b6-d148-416f-8b8e-b59e7f3bfe0f",
   "metadata": {},
   "outputs": [],
   "source": [
    "# Display output\n",
    "st.subheader(\"Prediction\")\n",
    "st.write(\"🎯 Survived\" if prediction == 1 else \"💀 Did Not Survive\")\n",
    "st.write(f\"Survival Probability: {probability:.2f}\")"
   ]
  },
  {
   "cell_type": "code",
   "execution_count": null,
   "id": "bd68fc23-dd9b-4c0c-a9dd-b40359ea1d9f",
   "metadata": {},
   "outputs": [],
   "source": []
  },
  {
   "cell_type": "code",
   "execution_count": null,
   "id": "b3bc2bd3-0a83-45ab-b6e0-fda8afa8c713",
   "metadata": {},
   "outputs": [],
   "source": []
  }
 ],
 "metadata": {
  "kernelspec": {
   "display_name": "Python [conda env:base] *",
   "language": "python",
   "name": "conda-base-py"
  },
  "language_info": {
   "codemirror_mode": {
    "name": "ipython",
    "version": 3
   },
   "file_extension": ".py",
   "mimetype": "text/x-python",
   "name": "python",
   "nbconvert_exporter": "python",
   "pygments_lexer": "ipython3",
   "version": "3.10.16"
  }
 },
 "nbformat": 4,
 "nbformat_minor": 5
}
